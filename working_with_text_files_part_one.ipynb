{
 "cells": [
  {
   "cell_type": "code",
   "execution_count": 15,
   "id": "da45944d",
   "metadata": {},
   "outputs": [],
   "source": [
    "person = \"Jose\""
   ]
  },
  {
   "cell_type": "code",
   "execution_count": 16,
   "id": "19ba096f",
   "metadata": {},
   "outputs": [
    {
     "name": "stdout",
     "output_type": "stream",
     "text": [
      "my name is Jose\n"
     ]
    }
   ],
   "source": [
    "print(\"my name is {}\".format(person))"
   ]
  },
  {
   "cell_type": "code",
   "execution_count": 17,
   "id": "e2547ed8",
   "metadata": {},
   "outputs": [
    {
     "name": "stdout",
     "output_type": "stream",
     "text": [
      "my name is Jose\n"
     ]
    }
   ],
   "source": [
    "print(f\"my name is {person}\")"
   ]
  },
  {
   "cell_type": "code",
   "execution_count": 18,
   "id": "c2f5a806",
   "metadata": {},
   "outputs": [],
   "source": [
    "d = {'a': 123, 'b': 456}"
   ]
  },
  {
   "cell_type": "code",
   "execution_count": 19,
   "id": "09bf5124",
   "metadata": {},
   "outputs": [
    {
     "name": "stdout",
     "output_type": "stream",
     "text": [
      "my number is 123\n"
     ]
    }
   ],
   "source": [
    "print(f\"my number is {d['a']}\")"
   ]
  },
  {
   "cell_type": "code",
   "execution_count": 23,
   "id": "bbc0a055",
   "metadata": {},
   "outputs": [],
   "source": [
    "library = [('Author', 'Topic', 'Pages'), ('Twain', 'Rafting in water alone', 601), ('Feynman', 'Physics', 95), ('Hamilton', 'Mythology', 144)]"
   ]
  },
  {
   "cell_type": "code",
   "execution_count": 24,
   "id": "905b6acb",
   "metadata": {},
   "outputs": [
    {
     "data": {
      "text/plain": [
       "[('Author', 'Topic', 'Pages'),\n",
       " ('Twain', 'Rafting in water alone', 601),\n",
       " ('Feynman', 'Physics', 95),\n",
       " ('Hamilton', 'Mythology', 144)]"
      ]
     },
     "execution_count": 24,
     "metadata": {},
     "output_type": "execute_result"
    }
   ],
   "source": [
    "library"
   ]
  },
  {
   "cell_type": "code",
   "execution_count": 26,
   "id": "cbc8346f",
   "metadata": {},
   "outputs": [
    {
     "name": "stdout",
     "output_type": "stream",
     "text": [
      "Author     Topic                          .....Pages\n",
      "Twain      Rafting in water alone         .......601\n",
      "Feynman    Physics                        ........95\n",
      "Hamilton   Mythology                      .......144\n"
     ]
    }
   ],
   "source": [
    "for author, topic, pages in library:\n",
    "  print(f\"{author:{10}} {topic:{30}} {pages:.>{10}}\")"
   ]
  },
  {
   "cell_type": "code",
   "execution_count": 27,
   "id": "cb097453",
   "metadata": {},
   "outputs": [],
   "source": [
    "from datetime import datetime"
   ]
  },
  {
   "cell_type": "code",
   "execution_count": null,
   "id": "6d9005af",
   "metadata": {},
   "outputs": [],
   "source": []
  }
 ],
 "metadata": {
  "kernelspec": {
   "display_name": "Python 3 (ipykernel)",
   "language": "python",
   "name": "python3"
  },
  "language_info": {
   "codemirror_mode": {
    "name": "ipython",
    "version": 3
   },
   "file_extension": ".py",
   "mimetype": "text/x-python",
   "name": "python",
   "nbconvert_exporter": "python",
   "pygments_lexer": "ipython3",
   "version": "3.11.3"
  }
 },
 "nbformat": 4,
 "nbformat_minor": 5
}
